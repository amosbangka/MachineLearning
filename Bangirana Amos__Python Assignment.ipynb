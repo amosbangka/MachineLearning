{
 "cells": [
  {
   "cell_type": "code",
   "execution_count": 1,
   "id": "253d7a70",
   "metadata": {},
   "outputs": [
    {
     "name": "stdout",
     "output_type": "stream",
     "text": [
      "[60 61 62 63 64 65 66 67 68 69]\n"
     ]
    }
   ],
   "source": [
    "#range practice\n",
    "#1 Print the numbers between 60 and 69 inclusive.\n",
    "\n",
    "import numpy as np\n",
    "number = np.arange(60,70)\n",
    "print(number)"
   ]
  },
  {
   "cell_type": "markdown",
   "id": "0601d7d9",
   "metadata": {},
   "source": [
    "2 . Read numbers until 0 and print their mean and standard deviation without using a list."
   ]
  },
  {
   "cell_type": "code",
   "execution_count": 2,
   "id": "e2cf6247",
   "metadata": {},
   "outputs": [
    {
     "name": "stdout",
     "output_type": "stream",
     "text": [
      "enter a number: 10\n",
      "enter a number: 20\n",
      "enter a number: 0\n",
      "mean is: 15.0\n",
      "standard deviation is: 5.0\n"
     ]
    }
   ],
   "source": [
    "sum_of_squares = 0\n",
    "total = 0\n",
    "counter = 0\n",
    "while (True):\n",
    "    number = int(input('enter a number: '))\n",
    "    if number == 0:\n",
    "      break\n",
    "    sum_of_squares += (number **2)\n",
    "    total = total + number\n",
    "    counter = counter + 1\n",
    "   \n",
    "mean=total/counter\n",
    "print(\"mean is: \"+ str(mean))\n",
    "\n",
    "std= ((sum_of_squares/counter)-mean**2)**(1/2)\n",
    "print(\"standard deviation is: \"+ str(std))\n"
   ]
  },
  {
   "cell_type": "markdown",
   "id": "ee30e643",
   "metadata": {},
   "source": [
    "##### Lists\n",
    "3 . Print the odd numbers from this list. `l = [2, 3, -2, -7, 0, 2, 3]`"
   ]
  },
  {
   "cell_type": "code",
   "execution_count": 3,
   "id": "8eb4be75",
   "metadata": {},
   "outputs": [
    {
     "name": "stdout",
     "output_type": "stream",
     "text": [
      "3\n",
      "-7\n",
      "3\n"
     ]
    }
   ],
   "source": [
    "m_list = [2, 3, -2, -7, 0, 2, 3]\n",
    "\n",
    "for item in m_list:\n",
    "    if item % 2 != 0:\n",
    "        print(item)"
   ]
  },
  {
   "cell_type": "markdown",
   "id": "9cd2bc6a",
   "metadata": {},
   "source": [
    "##### Functions\n",
    "4 . Write a function that takes an integer parameter `(N)` and returns a list of the first `N` prime numbers starting from 2."
   ]
  },
  {
   "cell_type": "code",
   "execution_count": 38,
   "id": "45c93500",
   "metadata": {},
   "outputs": [
    {
     "name": "stdout",
     "output_type": "stream",
     "text": [
      "enter a number: 10\n",
      "[2, 3, 5, 7, 11, 13, 17, 19, 23, 29]\n"
     ]
    }
   ],
   "source": [
    "\n",
    "def is_prime(num):\n",
    "    if num <= 1:\n",
    "        return False\n",
    "    if num <= 3:\n",
    "        return True\n",
    "    if num % 2 == 0 or num % 3 == 0:\n",
    "        return False\n",
    "    i = 5\n",
    "    while i * i <= num:\n",
    "        if num % i == 0 or num % (i + 2) == 0:\n",
    "            return False\n",
    "        i += 6\n",
    "    return True\n",
    "\n",
    "def generate_primes(N):\n",
    "    primes = []\n",
    "    num = 2\n",
    "    while len(primes) < N:\n",
    "        if is_prime(num):\n",
    "            primes.append(num)\n",
    "        num += 1\n",
    "    return primes\n",
    "\n",
    "N = int(input(\"enter a number: \"))\n",
    "prime_list = generate_primes(int(N))\n",
    "print(prime_list)\n",
    "\n",
    "\n",
    "\n"
   ]
  },
  {
   "cell_type": "markdown",
   "id": "fdba322b",
   "metadata": {},
   "source": [
    "5. Write a function that takes an integer parameter (N) and returns the Nth Fibonacci number.\n"
   ]
  },
  {
   "cell_type": "code",
   "execution_count": 37,
   "id": "0c3624ae",
   "metadata": {},
   "outputs": [
    {
     "name": "stdout",
     "output_type": "stream",
     "text": [
      "Enter position to display the Content: 4\n",
      "Current List: [20, 1, 2, 4, 5, 7, 8]\n",
      "The item in position 4 is: 5\n"
     ]
    }
   ],
   "source": [
    "def generate_fibonacii_series(n):\n",
    "  a = 0\n",
    "  b = 1\n",
    "  my_list = []\n",
    "  while b<n:\n",
    "    my_list.append(b)\n",
    "    temp = a\n",
    "    a = b\n",
    "    b = temp+b\n",
    "  print(my_list)\n",
    "  return my_list\n",
    "\n",
    "def get_nth_fibonacci(my_new_list,position):\n",
    "    print(\"Current List: \"+str(my_new_list))\n",
    "    print(\"The item in position \"+str(position)+\" is: \"+str(my_new_list[position]))\n",
    "    \n",
    "\n",
    "number = int(input('Enter position to display the Content: '))\n",
    "try:\n",
    "    get_nth_fibonacci([20,1,2,4,5,7,8],number)\n",
    "except IndexError:\n",
    "    pass\n",
    "else:\n",
    "    AssertionError(\"TEST FAILS. Out of index index should raise a ValueError.\")"
   ]
  },
  {
   "cell_type": "markdown",
   "id": "0180969d",
   "metadata": {},
   "source": [
    "6 . Create a function that take a list and a predicate (function with boolean return value) as parameters and returns a new list of those elements which the predicate return True. A predicate is a function that takes one element and return `True` or `False`, for example `is_even`, `is_prime`. If you implemented The following tests should run."
   ]
  },
  {
   "cell_type": "code",
   "execution_count": null,
   "id": "aeefd818",
   "metadata": {},
   "outputs": [],
   "source": []
  },
  {
   "cell_type": "markdown",
   "id": "089ed6a6",
   "metadata": {},
   "source": [
    "8. Use your reduce function for the following operations:"
   ]
  },
  {
   "cell_type": "code",
   "execution_count": 2,
   "id": "d663a721",
   "metadata": {},
   "outputs": [
    {
     "name": "stdout",
     "output_type": "stream",
     "text": [
      "Number of odd elements: 5\n",
      "Maximum value: 78\n",
      "Longest string: elderberry\n"
     ]
    }
   ],
   "source": [
    "#a. Count the number of odd elements in a list of integers:\n",
    "from functools import reduce\n",
    "\n",
    "# Sample list of integers\n",
    "integer_list = [1, 2, 3, 4, 5, 6, 7, 8, 9, 10]\n",
    "\n",
    "# Define a lambda function to count odd numbers\n",
    "count_odd = lambda count, x: count + 1 if x % 2 != 0 else count\n",
    "\n",
    "# Use reduce to count the odd numbers\n",
    "odd_count = reduce(count_odd, integer_list, 0)\n",
    "\n",
    "print(\"Number of odd elements:\", odd_count)\n",
    "\n",
    "#b. Find the maximum of a list of integers:\n",
    "from functools import reduce\n",
    "\n",
    "# Sample list of integers\n",
    "integer_list = [34, 12, 56, 78, 23, 45, 67]\n",
    "\n",
    "# Define a lambda function to find the maximum\n",
    "find_max = lambda x, y: x if x > y else y\n",
    "\n",
    "# Use reduce to find the maximum\n",
    "max_value = reduce(find_max, integer_list)\n",
    "\n",
    "print(\"Maximum value:\", max_value)\n",
    "\n",
    "#Find the longest string in a list of strings:\n",
    "from functools import reduce\n",
    "\n",
    "# Sample list of strings\n",
    "string_list = [\"apple\", \"banana\", \"cherry\", \"date\", \"elderberry\"]\n",
    "\n",
    "# Define a lambda function to find the longest string\n",
    "find_longest = lambda x, y: x if len(x) > len(y) else y\n",
    "\n",
    "# Use reduce to find the longest string\n",
    "longest_string = reduce(find_longest, string_list)\n",
    "\n",
    "print(\"Longest string:\", longest_string)\n",
    "\n"
   ]
  },
  {
   "cell_type": "markdown",
   "id": "6f8e0bb2",
   "metadata": {},
   "source": [
    "9. Create a function that takes a matrix of size NxM and returns the pairwise L2 distance of each row pair."
   ]
  },
  {
   "cell_type": "code",
   "execution_count": 3,
   "id": "98b9506c",
   "metadata": {},
   "outputs": [
    {
     "name": "stdout",
     "output_type": "stream",
     "text": [
      "[[ 0.          5.19615242 10.39230485]\n",
      " [ 5.19615242  0.          5.19615242]\n",
      " [10.39230485  5.19615242  0.        ]]\n"
     ]
    }
   ],
   "source": [
    "import numpy as np\n",
    "\n",
    "def pairwise_l2_distance(matrix):\n",
    "    # Get the number of rows in the matrix\n",
    "    n = matrix.shape[0]\n",
    "    \n",
    "    # Initialize the output distance matrix\n",
    "    distance_matrix = np.zeros((n, n))\n",
    "    \n",
    "    # Calculate the pairwise L2 distance for each row pair\n",
    "    for i in range(n):\n",
    "        for j in range(n):\n",
    "            distance_matrix[i, j] = np.linalg.norm(matrix[i] - matrix[j])\n",
    "    \n",
    "    return distance_matrix\n",
    "\n",
    "\n",
    "# Create a sample matrix A \n",
    "A = np.array([[1, 2, 3],\n",
    "              [4, 5, 6],\n",
    "              [7, 8, 9]])\n",
    "\n",
    "# Calculate the pairwise L2 distances\n",
    "D = pairwise_l2_distance(A)\n",
    "\n",
    "# Print the distance matrix\n",
    "print(D)\n"
   ]
  },
  {
   "cell_type": "markdown",
   "id": "02272711",
   "metadata": {},
   "source": [
    "10 . Object Oriented Programming\n",
    " Define a class named `A` with a 'constructor' that takes a single parameter and stores it in an attribute named `value`. Add a `print_value` method to the class. Instantiate the class and call the `print_value` method.\n",
    " "
   ]
  },
  {
   "cell_type": "code",
   "execution_count": 5,
   "id": "7e20d4dd",
   "metadata": {},
   "outputs": [
    {
     "name": "stdout",
     "output_type": "stream",
     "text": [
      "The stored value is: abc\n"
     ]
    }
   ],
   "source": [
    "class A:\n",
    "    def __init__(self, value):\n",
    "        self.value = value\n",
    "    \n",
    "    def print_value(self):\n",
    "        print(\"The stored value is:\", self.value)\n",
    "\n",
    "# Instantiate the class and call the print_value method\n",
    "obj = A(\"abc\")  # Creating an instance of class A with a value of abc\n",
    "obj.print_value()  # Calling the print_value method to print the stored value\n"
   ]
  },
  {
   "cell_type": "markdown",
   "id": "70547f96",
   "metadata": {},
   "source": [
    "11.  Define a class named `B`, whose `__init__` takes two parameters and stores one in a public attribute and the other in a private attribute named `this_is_public` and `__this_is_private` respectively. Check the class's ``__dict__``  attribute and find out the mangled name of the private attribute.\n"
   ]
  },
  {
   "cell_type": "code",
   "execution_count": 6,
   "id": "d57482a7",
   "metadata": {},
   "outputs": [
    {
     "name": "stdout",
     "output_type": "stream",
     "text": [
      "{'public_param': 'Public Value', '_B__this_is_private': 'Private Value'}\n",
      "Mangled name of the private attribute: Private Value\n"
     ]
    }
   ],
   "source": [
    "class B:\n",
    "    def __init__(self, public_param, private_param):\n",
    "        self.public_param = public_param\n",
    "        self.__this_is_private = private_param\n",
    "\n",
    "# Create an instance of the class\n",
    "b_instance = B(\"Public Value\", \"Private Value\")\n",
    "\n",
    "# Check the __dict__ attribute of the instance\n",
    "print(b_instance.__dict__)\n",
    "\n",
    "# The mangled name of the private attribute can be found by adding an underscore and the class name before the attribute name:\n",
    "mangled_name = b_instance._B__this_is_private\n",
    "print(\"Mangled name of the private attribute:\", mangled_name)\n"
   ]
  },
  {
   "cell_type": "markdown",
   "id": "4e253035",
   "metadata": {},
   "source": [
    "13 . Inheritance\n",
    "\n",
    "###### Guess the output without running the cell."
   ]
  },
  {
   "cell_type": "code",
   "execution_count": 7,
   "id": "b78664ce",
   "metadata": {},
   "outputs": [
    {
     "name": "stdout",
     "output_type": "stream",
     "text": [
      "True\n",
      "True\n",
      "False\n",
      "True\n",
      "True\n"
     ]
    }
   ],
   "source": [
    "class A(object): pass\n",
    "class B(A): pass\n",
    "class C(A): pass\n",
    "class D(B): pass\n",
    "\n",
    "a = A()\n",
    "b = B()\n",
    "c = C()\n",
    "d = D()\n",
    "\n",
    "print(isinstance(a, object))\n",
    "print(isinstance(b, object))\n",
    "print(isinstance(a, B))\n",
    "print(isinstance(b, A))\n",
    "print(isinstance(d, A))"
   ]
  },
  {
   "cell_type": "markdown",
   "id": "90a20ecf",
   "metadata": {},
   "source": [
    "#### Create a Cat, a Dog, a Fish and a Eagle class.\n",
    "\n",
    "The animals have the following attributes:\n",
    "\n",
    "1. cats, dogs and eagles can make a sound (this should be a make_sound function that prints the animals sound),\n",
    "2. all animals have an age and a number_of_legs attribute,\n",
    "3. cats and dogs have a fur_color attribute. They can be instantiated with a single color or a list or tuple of colors.\n",
    "\n",
    "Use inheritance and avoid repeating code. Use default values in the constructors."
   ]
  },
  {
   "cell_type": "code",
   "execution_count": null,
   "id": "21e657e2",
   "metadata": {},
   "outputs": [],
   "source": [
    "class Animal:\n",
    "    def __init__(self, age=0, number_of_legs=4):\n",
    "        self.age = age\n",
    "        self.number_of_legs = number_of_legs\n",
    "\n",
    "    def make_sound(self):\n",
    "        pass\n",
    "\n",
    "\n",
    "class Cat(Animal):\n",
    "    def __init__(self, age=0, number_of_legs=4, fur_color='unknown'):\n",
    "        super().__init__(age, number_of_legs)\n",
    "        if isinstance(fur_color, (list, tuple)):\n",
    "            self.fur_color = fur_color\n",
    "        else:\n",
    "            self.fur_color = [fur_color]\n",
    "\n",
    "    def make_sound(self):\n",
    "        print(\"Meow!\")\n",
    "\n",
    "\n",
    "class Dog(Animal):\n",
    "    def __init__(self, age=0, number_of_legs=4, fur_color='unknown'):\n",
    "        super().__init__(age, number_of_legs)\n",
    "        if isinstance(fur_color, (list, tuple)):\n",
    "            self.fur_color = fur_color\n",
    "        else:\n",
    "            self.fur_color = [fur_color]\n",
    "\n",
    "    def make_sound(self):\n",
    "        print(\"Woof!\")\n",
    "\n",
    "\n",
    "class Fish(Animal):\n",
    "    def __init__(self, age=0, number_of_legs=0):\n",
    "        super().__init__(age, number_of_legs)\n",
    "\n",
    "    def make_sound(self):\n",
    "        print(\"Blub blub!\")\n",
    "\n",
    "\n",
    "class Eagle(Animal):\n",
    "    def __init__(self, age=0, number_of_legs=2):\n",
    "        super().__init__(age, number_of_legs)\n",
    "\n",
    "    def make_sound(self):\n",
    "        print(\"Screech!\")\n",
    "\n",
    "\n",
    "# Example usage:\n",
    "cat = Cat(age=5, fur_color=['black', 'white'])\n",
    "dog = Dog(age=3, fur_color='brown')\n",
    "fish = Fish(age=1)\n",
    "eagle = Eagle(age=10)\n",
    "\n",
    "print(f\"Cat age: {cat.age}, Fur colors: {', '.join(cat.fur_color)}\")\n",
    "print(f\"Dog age: {dog.age}, Fur color: {', '.join(dog.fur_color)}\")\n",
    "print(f\"Fish age: {fish.age}\")\n",
    "print(f\"Eagle age: {eagle.age}\")\n",
    "\n",
    "cat.make_sound()\n",
    "dog.make_sound()\n",
    "fish.make_sound()\n",
    "eagle.make_sound()\n"
   ]
  },
  {
   "cell_type": "code",
   "execution_count": null,
   "id": "d62760f6",
   "metadata": {},
   "outputs": [],
   "source": []
  }
 ],
 "metadata": {
  "kernelspec": {
   "display_name": "Python 3 (ipykernel)",
   "language": "python",
   "name": "python3"
  },
  "language_info": {
   "codemirror_mode": {
    "name": "ipython",
    "version": 3
   },
   "file_extension": ".py",
   "mimetype": "text/x-python",
   "name": "python",
   "nbconvert_exporter": "python",
   "pygments_lexer": "ipython3",
   "version": "3.11.4"
  }
 },
 "nbformat": 4,
 "nbformat_minor": 5
}
